{
 "cells": [
  {
   "cell_type": "markdown",
   "metadata": {
    "tags": []
   },
   "source": [
    "# PetFinder.my Pawpularity Score / Train"
   ]
  },
  {
   "cell_type": "markdown",
   "metadata": {
    "tags": []
   },
   "source": [
    "## Imports"
   ]
  },
  {
   "cell_type": "code",
   "execution_count": 1,
   "metadata": {},
   "outputs": [
    {
     "data": {
      "text/plain": [
       "'TensorFlow Version: 2.6.0'"
      ]
     },
     "metadata": {},
     "output_type": "display_data"
    },
    {
     "data": {
      "text/plain": [
       "'TensorFlow Strategy: _DefaultDistributionStrategy'"
      ]
     },
     "metadata": {},
     "output_type": "display_data"
    }
   ],
   "source": [
    "# Imports\n",
    "import os\n",
    "import numpy as np\n",
    "from IPython.display import display\n",
    "\n",
    "# Import landmark recognition lib\n",
    "import petfinder_pawpularity_lib as mllib\n",
    "tf_strategy = mllib.tf_strategy()"
   ]
  },
  {
   "cell_type": "code",
   "execution_count": 2,
   "metadata": {},
   "outputs": [],
   "source": [
    "# Enable retina display\n",
    "%config InlineBackend.figure_format = \"retina\"\n",
    "\n",
    "# Load Tensorboard\n",
    "%load_ext tensorboard"
   ]
  },
  {
   "cell_type": "markdown",
   "metadata": {
    "tags": []
   },
   "source": [
    "## Settings"
   ]
  },
  {
   "cell_type": "markdown",
   "metadata": {},
   "source": [
    "### Settings definitions"
   ]
  },
  {
   "cell_type": "code",
   "execution_count": 3,
   "metadata": {},
   "outputs": [],
   "source": [
    "# Settings Map\n",
    "if \"settingsMap\" not in globals(): settingsMap = {}"
   ]
  },
  {
   "cell_type": "code",
   "execution_count": 4,
   "metadata": {},
   "outputs": [],
   "source": [
    "# train-local-cut\n",
    "settingsMap[\"train-local-cut\"] = {\n",
    "    \"debug\": False,\n",
    "    \"model_load_dir\": os.path.join(\"models\"),\n",
    "    \"model_save_dir\": os.path.join(\"models\"),\n",
    "    \"dataset_dir_src\": os.path.join(\"..\", \"input\", \"petfinder-pawpularity-score\"),\n",
    "    \"dataset_dir_cut\": os.path.join(\"..\", \"input\", \"petfinder-pawpularity-score\"),\n",
    "    \"dataset_dir_copy\": os.path.join(\"dataset-copy\"),\n",
    "    \"dataset_batch_size\": 32,\n",
    "    \"dataset_image_size\": (150, 150),\n",
    "    \"dataset_cut_ratio\": 0.2,\n",
    "    \"dataset_shrink_ratio\": 1.0,\n",
    "    \"dataset_split_ratios\": [0.7, 0.2, 0.1],\n",
    "    \"dataset_shuffle\": False,\n",
    "    \"dataset_shuffle_seed\": np.random.seed(42),\n",
    "    \"dataset_prefetch\": mllib.tf.data.AUTOTUNE,\n",
    "    \"train_save_checkpoint_flag\": False,\n",
    "    \"train_fine_tuning_flag\": False,\n",
    "    \"train_load_model_flag\": True,\n",
    "    \"infer_load_model_flag\": False,\n",
    "    \"synchronize_models_flag\": True,\n",
    "    \"train_max_epochs\": 10,\n",
    "    \"train_early_stopping\": 3,\n",
    "    \"cleanup_data_flag\": False,\n",
    "}"
   ]
  },
  {
   "cell_type": "code",
   "execution_count": 5,
   "metadata": {},
   "outputs": [],
   "source": [
    "# train-local-cut\n",
    "settingsMap[\"train-local-full\"] = {\n",
    "    \"debug\": False,\n",
    "    \"model_load_dir\": os.path.join(\"models\"),\n",
    "    \"model_save_dir\": os.path.join(\"models\"),\n",
    "    \"dataset_dir_src\": os.path.join(\"..\", \"input\", \"petfinder-pawpularity-score\"),\n",
    "    \"dataset_dir_cut\": os.path.join(\"..\", \"input\", \"petfinder-pawpularity-score\"),\n",
    "    \"dataset_dir_copy\": os.path.join(\"dataset-copy\"),\n",
    "    \"dataset_batch_size\": 64,\n",
    "    \"dataset_image_size\": (150, 150),\n",
    "    \"dataset_cut_ratio\": 1.0,\n",
    "    \"dataset_shrink_ratio\": 1.0,\n",
    "    \"dataset_split_ratios\": [0.7, 0.2, 0.1],\n",
    "    \"dataset_shuffle\": False,\n",
    "    \"dataset_shuffle_seed\": np.random.seed(42),\n",
    "    \"dataset_prefetch\": mllib.tf.data.AUTOTUNE,\n",
    "    \"train_save_checkpoint_flag\": False,\n",
    "    \"train_fine_tuning_flag\": False,\n",
    "    \"train_load_model_flag\": True,\n",
    "    \"infer_load_model_flag\": False,\n",
    "    \"synchronize_models_flag\": True,\n",
    "    \"train_max_epochs\": 1,\n",
    "    \"train_early_stopping\": 3,\n",
    "    \"cleanup_data_flag\": False,\n",
    "}"
   ]
  },
  {
   "cell_type": "code",
   "execution_count": 6,
   "metadata": {},
   "outputs": [],
   "source": [
    "# train-remote-cut\n",
    "settingsMap[\"train-remote-cut\"] = {\n",
    "    \"debug\": False,\n",
    "    \"model_load_dir\": os.path.join(\"..\", \"input\", \"petfinder-pawpularity-train\", \"models\"),\n",
    "    \"model_save_dir\": os.path.join(\"models\"),\n",
    "    \"dataset_dir_src\": os.path.join(\"..\", \"input\", \"petfinder-pawpularity-score\"),\n",
    "    \"dataset_dir_cut\": os.path.join(\"dataset\", \"petfinder-pawpularity-score\"),\n",
    "    \"dataset_dir_copy\": os.path.join(\"dataset-copy\"),\n",
    "    \"dataset_batch_size\": 64,\n",
    "    \"dataset_image_size\": (500, 500),\n",
    "    \"dataset_cut_ratio\": 0.2,\n",
    "    \"dataset_shrink_ratio\": 1.0,\n",
    "    \"dataset_split_ratios\": [0.7, 0.2, 0.1],\n",
    "    \"dataset_shuffle\": False,\n",
    "    \"dataset_shuffle_seed\": np.random.seed(42),\n",
    "    \"dataset_prefetch\": mllib.tf.data.AUTOTUNE,\n",
    "    \"train_save_checkpoint_flag\": False,\n",
    "    \"train_fine_tuning_flag\": False,\n",
    "    \"train_load_model_flag\": True,\n",
    "    \"infer_load_model_flag\": False,\n",
    "    \"synchronize_models_flag\": True,\n",
    "    \"train_max_epochs\": 10,\n",
    "    \"train_early_stopping\": 2,\n",
    "    \"cleanup_data_flag\": True,\n",
    "}"
   ]
  },
  {
   "cell_type": "code",
   "execution_count": 7,
   "metadata": {},
   "outputs": [],
   "source": [
    "# train-remote-full\n",
    "settingsMap[\"train-remote-full\"] = {\n",
    "    \"debug\": False,\n",
    "    \"model_load_dir\": os.path.join(\"..\", \"input\", \"petfinder-pawpularity-train\", \"models\"),\n",
    "    \"model_save_dir\": os.path.join(\"models\"),\n",
    "    \"dataset_dir_src\": os.path.join(\"..\", \"input\", \"petfinder-pawpularity-score\"),\n",
    "    \"dataset_dir_cut\": os.path.join(\"dataset\", \"petfinder-pawpularity-score\"),\n",
    "    \"dataset_dir_copy\": os.path.join(\"dataset-copy\"),\n",
    "    \"dataset_batch_size\": 64,\n",
    "    \"dataset_image_size\": (500, 500),\n",
    "    \"dataset_cut_ratio\": 1.0,\n",
    "    \"dataset_shrink_ratio\": 1.0,\n",
    "    \"dataset_split_ratios\": [0.90, 0.05, 0.05],\n",
    "    \"dataset_shuffle\": False,\n",
    "    \"dataset_shuffle_seed\": np.random.seed(42),\n",
    "    \"dataset_prefetch\": mllib.tf.data.AUTOTUNE,\n",
    "    \"train_save_checkpoint_flag\": False,\n",
    "    \"train_fine_tuning_flag\": False,\n",
    "    \"train_load_model_flag\": True,\n",
    "    \"infer_load_model_flag\": False,\n",
    "    \"synchronize_models_flag\": True,\n",
    "    \"train_max_epochs\": 1,\n",
    "    \"train_early_stopping\": 2,\n",
    "    \"cleanup_data_flag\": True,\n",
    "}"
   ]
  },
  {
   "cell_type": "markdown",
   "metadata": {},
   "source": [
    "### Selected settings"
   ]
  },
  {
   "cell_type": "code",
   "execution_count": 8,
   "metadata": {},
   "outputs": [],
   "source": [
    "# Mode\n",
    "mode = \"train-local-cut\""
   ]
  },
  {
   "cell_type": "code",
   "execution_count": 9,
   "metadata": {},
   "outputs": [
    {
     "data": {
      "text/plain": [
       "{'debug': False,\n",
       " 'model_load_dir': 'models',\n",
       " 'model_save_dir': 'models',\n",
       " 'dataset_dir_src': '../input/petfinder-pawpularity-score',\n",
       " 'dataset_dir_cut': '../input/petfinder-pawpularity-score',\n",
       " 'dataset_dir_copy': 'dataset-copy',\n",
       " 'dataset_batch_size': 32,\n",
       " 'dataset_image_size': (150, 150),\n",
       " 'dataset_cut_ratio': 0.2,\n",
       " 'dataset_shrink_ratio': 1.0,\n",
       " 'dataset_split_ratios': [0.7, 0.2, 0.1],\n",
       " 'dataset_shuffle': False,\n",
       " 'dataset_shuffle_seed': None,\n",
       " 'dataset_prefetch': -1,\n",
       " 'train_save_checkpoint_flag': False,\n",
       " 'train_fine_tuning_flag': False,\n",
       " 'train_load_model_flag': True,\n",
       " 'infer_load_model_flag': False,\n",
       " 'synchronize_models_flag': True,\n",
       " 'train_max_epochs': 10,\n",
       " 'train_early_stopping': 3,\n",
       " 'cleanup_data_flag': False}"
      ]
     },
     "metadata": {},
     "output_type": "display_data"
    }
   ],
   "source": [
    "# Selected settings\n",
    "settings = settingsMap[mode]\n",
    "display(settings)\n",
    "\n",
    "# Debug\n",
    "debug = settings[\"debug\"]"
   ]
  },
  {
   "cell_type": "markdown",
   "metadata": {
    "tags": []
   },
   "source": [
    "## Prepare data"
   ]
  },
  {
   "cell_type": "code",
   "execution_count": 10,
   "metadata": {},
   "outputs": [
    {
     "data": {
      "text/plain": [
       "'../input/petfinder-pawpularity-score-cut-0.200'"
      ]
     },
     "metadata": {},
     "output_type": "display_data"
    },
    {
     "data": {
      "text/plain": [
       "'Copy ../input/petfinder-pawpularity-score-cut-0.200/train.csv to dataset-copy/train-cut-0.200.csv'"
      ]
     },
     "metadata": {},
     "output_type": "display_data"
    },
    {
     "data": {
      "text/plain": [
       "'Load training data from ../input/petfinder-pawpularity-score-cut-0.200/train.csv'"
      ]
     },
     "metadata": {},
     "output_type": "display_data"
    },
    {
     "name": "stdout",
     "output_type": "stream",
     "text": [
      "WARNING:tensorflow:AutoGraph could not transform <function <lambda> at 0x7fd789647d30> and will run it as-is.\n",
      "Cause: could not parse the source code of <function <lambda> at 0x7fd789647d30>: no matching AST found\n",
      "To silence this warning, decorate the function with @tf.autograph.experimental.do_not_convert\n",
      "WARNING: AutoGraph could not transform <function <lambda> at 0x7fd789647d30> and will run it as-is.\n",
      "Cause: could not parse the source code of <function <lambda> at 0x7fd789647d30>: no matching AST found\n",
      "To silence this warning, decorate the function with @tf.autograph.experimental.do_not_convert\n",
      "Train / Validate / Test datasets items: 1376 / 384 / 192\n",
      "CPU times: user 707 ms, sys: 186 ms, total: 893 ms\n",
      "Wall time: 704 ms\n"
     ]
    }
   ],
   "source": [
    "%%time\n",
    "# Cut training data\n",
    "dataset_dir = mllib.cut_training_data(\n",
    "    cut_ratio=settings[\"dataset_cut_ratio\"], \n",
    "    dataset_dir_src=settings[\"dataset_dir_src\"], \n",
    "    dataset_dir_cut=settings[\"dataset_dir_cut\"]\n",
    ")\n",
    "display(dataset_dir)\n",
    "\n",
    "# Copy train.csv to output (It may be different with submission dataset)\n",
    "if settings[\"dataset_dir_copy\"] is not None:\n",
    "    mllib.copy_file(os.path.join(dataset_dir, \"train.csv\"), os.path.join(settings[\"dataset_dir_copy\"], \"train%s.csv\" % mllib.cut_suffix(settings[\"dataset_cut_ratio\"])))\n",
    "\n",
    "# Train data\n",
    "training_data = mllib.load_training_data(dataset_dir)\n",
    "if debug: \n",
    "    display(training_data)\n",
    "    training_data.hist(bins=500, figsize=(18,3))\n",
    "\n",
    "# Make training data\n",
    "train_dataset, validate_dataset, test_dataset = mllib.make_training_validate_test_data(\n",
    "    dataset=mllib.load_training_dataset(\n",
    "        dataset_dir=dataset_dir,\n",
    "        mapping_data=training_data,\n",
    "        batch_size=settings[\"dataset_batch_size\"],\n",
    "        shuffle=settings[\"dataset_shuffle\"],\n",
    "        seed=settings[\"dataset_shuffle_seed\"],\n",
    "        image_size=settings[\"dataset_image_size\"],\n",
    "    ),\n",
    "    split_ratios=settings[\"dataset_split_ratios\"],\n",
    "    shrink_ratio=settings[\"dataset_shrink_ratio\"],\n",
    "    prefetch=settings[\"dataset_prefetch\"],\n",
    "    map_fn=lambda image, features, score, file_id: (image, score),\n",
    ")\n",
    "\n",
    "# Training data infos\n",
    "print(\"Train / Validate / Test datasets items: %s / %s / %s\" % (\n",
    "    settings[\"dataset_batch_size\"] * train_dataset().cardinality().numpy(), \n",
    "    settings[\"dataset_batch_size\"] * validate_dataset().cardinality().numpy(), \n",
    "    settings[\"dataset_batch_size\"] * test_dataset().cardinality().numpy()\n",
    "))\n",
    "if debug:\n",
    "    print(\"\")\n",
    "    print(\"Train dataset:\")\n",
    "    mllib.plot_images_scores_from_dataset(train_dataset().take(1))\n",
    "    print(\"Validate dataset:\")\n",
    "    mllib.plot_images_scores_from_dataset(validate_dataset().take(1))\n",
    "    print(\"Test dataset:\")\n",
    "    mllib.plot_images_scores_from_dataset(test_dataset().take(1))"
   ]
  },
  {
   "cell_type": "markdown",
   "metadata": {},
   "source": [
    "## Synchronize models"
   ]
  },
  {
   "cell_type": "code",
   "execution_count": 11,
   "metadata": {},
   "outputs": [
    {
     "data": {
      "text/plain": [
       "[]"
      ]
     },
     "metadata": {},
     "output_type": "display_data"
    }
   ],
   "source": [
    "# Synchronize models from load to save directories\n",
    "if settings[\"synchronize_models_flag\"]:\n",
    "    synchronized_models = mllib.synchronize_models(\n",
    "        model_load_dir=settings[\"model_load_dir\"], \n",
    "        model_save_dir=settings[\"model_save_dir\"]\n",
    "    )\n",
    "    display(synchronized_models)"
   ]
  },
  {
   "cell_type": "markdown",
   "metadata": {
    "tags": []
   },
   "source": [
    "## Train model"
   ]
  },
  {
   "cell_type": "code",
   "execution_count": 12,
   "metadata": {},
   "outputs": [
    {
     "data": {
      "text/plain": [
       "{'model_prefix': 'model_2_xception-cut-0.200',\n",
       " 'input_shape': [150, 150, 3],\n",
       " 'output_size': 1,\n",
       " 'dense_layers': [512, 256, 128],\n",
       " 'dropout_rate': 0.2,\n",
       " 'learning_rate': 0.005,\n",
       " 'early_stopping_patience': 3,\n",
       " 'save_checkpoint': False,\n",
       " 'epoch': 10,\n",
       " 'fine_tuning': False,\n",
       " 'model_name': 'model_2_xception-cut-0.200-input-150x150x3-dense-512x256x128-dropout-0.200',\n",
       " 'preload_weights': None}"
      ]
     },
     "metadata": {},
     "output_type": "display_data"
    }
   ],
   "source": [
    "# Prepare model parameters\n",
    "def get_model_parameters(settings):\n",
    "    dataset_image_size = settings[\"dataset_image_size\"]\n",
    "    model_parameters = {\n",
    "        \"model_prefix\": \"model_2_xception\" + mllib.cut_suffix(settings[\"dataset_cut_ratio\"]),\n",
    "        \"input_shape\": [dataset_image_size[0], dataset_image_size[1], 3],\n",
    "        \"output_size\": 1,\n",
    "        \"dropout_rate\": 0.3,\n",
    "        \"learning_rate\": 5e-4,\n",
    "        \"early_stopping_patience\": settings[\"train_early_stopping\"],\n",
    "        \"save_checkpoint\": settings[\"train_save_checkpoint_flag\"],\n",
    "        \"epoch\": settings[\"train_max_epochs\"],\n",
    "        \"fine_tuning\": settings[\"train_fine_tuning_flag\"],\n",
    "    }\n",
    "    model_name = mllib.get_model_name(model_parameters)\n",
    "    model_file = mllib.model_file_path_load(model_name, settings[\"model_load_dir\"])\n",
    "    preload_weights = None if settings[\"train_load_model_flag\"] and os.path.exists(model_file) else \"imagenet\"\n",
    "    model_parameters[\"model_name\"] = model_name\n",
    "    model_parameters[\"preload_weights\"] = preload_weights\n",
    "    return model_parameters\n",
    "    \n",
    "model_parameters = get_model_parameters(settings)\n",
    "display(model_parameters)"
   ]
  },
  {
   "cell_type": "code",
   "execution_count": 13,
   "metadata": {},
   "outputs": [
    {
     "name": "stdout",
     "output_type": "stream",
     "text": [
      "Model: \"model_2_xception-cut-0.200-input-150x150x3-dense-512x256x128-dropout-0.200\"\n",
      "_________________________________________________________________\n",
      "Layer (type)                 Output Shape              Param #   \n",
      "=================================================================\n",
      "input (InputLayer)           [(None, 150, 150, 3)]     0         \n",
      "_________________________________________________________________\n",
      "tf.math.truediv (TFOpLambda) (None, 150, 150, 3)       0         \n",
      "_________________________________________________________________\n",
      "tf.math.subtract (TFOpLambda (None, 150, 150, 3)       0         \n",
      "_________________________________________________________________\n",
      "xception (Functional)        (None, 5, 5, 2048)        20861480  \n",
      "_________________________________________________________________\n",
      "global_average_pooling2d (Gl (None, 2048)              0         \n",
      "_________________________________________________________________\n",
      "dense_1 (Dense)              (None, 512)               1049088   \n",
      "_________________________________________________________________\n",
      "dropout_1 (Dropout)          (None, 512)               0         \n",
      "_________________________________________________________________\n",
      "dense_2 (Dense)              (None, 256)               131328    \n",
      "_________________________________________________________________\n",
      "dropout_2 (Dropout)          (None, 256)               0         \n",
      "_________________________________________________________________\n",
      "dense_3 (Dense)              (None, 128)               32896     \n",
      "_________________________________________________________________\n",
      "dropout_3 (Dropout)          (None, 128)               0         \n",
      "_________________________________________________________________\n",
      "dense_4 (Dense)              (None, 1)                 129       \n",
      "=================================================================\n",
      "Total params: 22,074,921\n",
      "Trainable params: 1,213,441\n",
      "Non-trainable params: 20,861,480\n",
      "_________________________________________________________________\n",
      "Loaded Weights: models/model_2_xception-cut-0.200-input-150x150x3-dense-512x256x128-dropout-0.200.h5\n",
      "Epoch 1/10\n",
      "43/43 [==============================] - 60s 1s/step - loss: 2748.7114 - rmse: 52.4282 - val_loss: 510.6503 - val_rmse: 22.5976\n",
      "Epoch 2/10\n",
      "43/43 [==============================] - 58s 1s/step - loss: 606.1634 - rmse: 24.6204 - val_loss: 476.0603 - val_rmse: 21.8188\n",
      "Epoch 3/10\n",
      "43/43 [==============================] - 58s 1s/step - loss: 530.5479 - rmse: 23.0336 - val_loss: 466.8015 - val_rmse: 21.6056\n",
      "Epoch 4/10\n",
      "43/43 [==============================] - 59s 1s/step - loss: 445.6503 - rmse: 21.1104 - val_loss: 462.0558 - val_rmse: 21.4955\n",
      "Epoch 5/10\n",
      "43/43 [==============================] - 58s 1s/step - loss: 409.4619 - rmse: 20.2352 - val_loss: 467.6475 - val_rmse: 21.6252\n",
      "Epoch 6/10\n",
      "43/43 [==============================] - 57s 1s/step - loss: 368.2199 - rmse: 19.1891 - val_loss: 507.3150 - val_rmse: 22.5237\n",
      "Epoch 7/10\n",
      "43/43 [==============================] - 57s 1s/step - loss: 331.0207 - rmse: 18.1940 - val_loss: 563.9271 - val_rmse: 23.7471\n"
     ]
    },
    {
     "data": {
      "image/png": "[encoded data removed]",
      "text/plain": [
       "<Figure size 792x288 with 1 Axes>"
      ]
     },
     "metadata": {
      "needs_background": "light"
     },
     "output_type": "display_data"
    },
    {
     "name": "stdout",
     "output_type": "stream",
     "text": [
      "Saved Weights: models/model_2_xception-cut-0.200-input-150x150x3-dense-512x256x128-dropout-0.200.h5\n",
      "Evaluate:\n",
      "6/6 [==============================] - 7s 903ms/step - loss: 460.2414 - rmse: 21.4532\n",
      "Successfully written training records to models/_train_logs.csv\n"
     ]
    },
    {
     "data": {
      "text/html": [
       "<div>\n",
       "<style scoped>\n",
       "    .dataframe tbody tr th:only-of-type {\n",
       "        vertical-align: middle;\n",
       "    }\n",
       "\n",
       "    .dataframe tbody tr th {\n",
       "        vertical-align: top;\n",
       "    }\n",
       "\n",
       "    .dataframe thead th {\n",
       "        text-align: right;\n",
       "    }\n",
       "</style>\n",
       "<table border=\"1\" class=\"dataframe\">\n",
       "  <thead>\n",
       "    <tr style=\"text-align: right;\">\n",
       "      <th></th>\n",
       "      <th>model_name</th>\n",
       "      <th>model_parameters</th>\n",
       "      <th>iteration</th>\n",
       "      <th>epochs</th>\n",
       "      <th>epochs_sum</th>\n",
       "      <th>steps</th>\n",
       "      <th>train_rmse</th>\n",
       "      <th>val_rmse</th>\n",
       "      <th>test_rmse</th>\n",
       "      <th>trained_at</th>\n",
       "    </tr>\n",
       "  </thead>\n",
       "  <tbody>\n",
       "    <tr>\n",
       "      <th>0</th>\n",
       "      <td>model_2_xception-cut-0.200-input-100x100x3-dro...</td>\n",
       "      <td>{'model_prefix': 'model_2_xception-cut-0.200',...</td>\n",
       "      <td>1</td>\n",
       "      <td>2</td>\n",
       "      <td>2</td>\n",
       "      <td>43</td>\n",
       "      <td>19.388</td>\n",
       "      <td>23.827</td>\n",
       "      <td>21.202</td>\n",
       "      <td>2021-10-17 14:00:59.640327</td>\n",
       "    </tr>\n",
       "    <tr>\n",
       "      <th>1</th>\n",
       "      <td>model_2_xception-cut-0.200-input-100x100x3-dro...</td>\n",
       "      <td>{'model_prefix': 'model_2_xception-cut-0.200',...</td>\n",
       "      <td>2</td>\n",
       "      <td>2</td>\n",
       "      <td>4</td>\n",
       "      <td>43</td>\n",
       "      <td>19.234</td>\n",
       "      <td>24.038</td>\n",
       "      <td>21.456</td>\n",
       "      <td>2021-10-17 14:02:14.405012</td>\n",
       "    </tr>\n",
       "    <tr>\n",
       "      <th>2</th>\n",
       "      <td>model_2_xception-cut-0.200-input-100x100x3-dro...</td>\n",
       "      <td>{'model_prefix': 'model_2_xception-cut-0.200',...</td>\n",
       "      <td>3</td>\n",
       "      <td>2</td>\n",
       "      <td>4</td>\n",
       "      <td>43</td>\n",
       "      <td>19.344</td>\n",
       "      <td>24.222</td>\n",
       "      <td>21.549</td>\n",
       "      <td>2021-10-17 14:09:31.444351</td>\n",
       "    </tr>\n",
       "    <tr>\n",
       "      <th>3</th>\n",
       "      <td>model_2_xception-cut-0.200-input-100x100x3-dro...</td>\n",
       "      <td>{'model_prefix': 'model_2_xception-cut-0.200',...</td>\n",
       "      <td>4</td>\n",
       "      <td>5</td>\n",
       "      <td>9</td>\n",
       "      <td>43</td>\n",
       "      <td>18.806</td>\n",
       "      <td>23.973</td>\n",
       "      <td>21.582</td>\n",
       "      <td>2021-10-17 14:16:26.883468</td>\n",
       "    </tr>\n",
       "    <tr>\n",
       "      <th>4</th>\n",
       "      <td>model_2_xception-cut-0.200-input-100x100x3-dro...</td>\n",
       "      <td>{'model_prefix': 'model_2_xception-cut-0.200',...</td>\n",
       "      <td>5</td>\n",
       "      <td>10</td>\n",
       "      <td>19</td>\n",
       "      <td>43</td>\n",
       "      <td>18.375</td>\n",
       "      <td>24.039</td>\n",
       "      <td>20.966</td>\n",
       "      <td>2021-10-17 14:22:17.956892</td>\n",
       "    </tr>\n",
       "    <tr>\n",
       "      <th>5</th>\n",
       "      <td>model_2_xception-cut-0.200-input-250x250x3-dro...</td>\n",
       "      <td>{'model_prefix': 'model_2_xception-cut-0.200',...</td>\n",
       "      <td>1</td>\n",
       "      <td>5</td>\n",
       "      <td>5</td>\n",
       "      <td>43</td>\n",
       "      <td>19.041</td>\n",
       "      <td>20.664</td>\n",
       "      <td>21.137</td>\n",
       "      <td>2021-10-17 16:07:25.100604</td>\n",
       "    </tr>\n",
       "    <tr>\n",
       "      <th>6</th>\n",
       "      <td>model_2_xception-cut-0.200-input-250x250x3-dro...</td>\n",
       "      <td>{'model_prefix': 'model_2_xception-cut-0.200',...</td>\n",
       "      <td>2</td>\n",
       "      <td>5</td>\n",
       "      <td>10</td>\n",
       "      <td>43</td>\n",
       "      <td>18.209</td>\n",
       "      <td>20.18</td>\n",
       "      <td>21.321</td>\n",
       "      <td>2021-10-17 16:19:42.643741</td>\n",
       "    </tr>\n",
       "    <tr>\n",
       "      <th>7</th>\n",
       "      <td>model_2_xception-cut-0.200-input-250x250x3-dro...</td>\n",
       "      <td>{'model_prefix': 'model_2_xception-cut-0.200',...</td>\n",
       "      <td>3</td>\n",
       "      <td>5</td>\n",
       "      <td>15</td>\n",
       "      <td>43</td>\n",
       "      <td>17.661</td>\n",
       "      <td>20.03</td>\n",
       "      <td>21.461</td>\n",
       "      <td>2021-10-17 16:31:47.732889</td>\n",
       "    </tr>\n",
       "    <tr>\n",
       "      <th>8</th>\n",
       "      <td>model_2_xception-cut-0.200-input-250x250x3-dro...</td>\n",
       "      <td>{'model_prefix': 'model_2_xception-cut-0.200',...</td>\n",
       "      <td>4</td>\n",
       "      <td>5</td>\n",
       "      <td>20</td>\n",
       "      <td>43</td>\n",
       "      <td>17.303</td>\n",
       "      <td>20.114</td>\n",
       "      <td>20.958</td>\n",
       "      <td>2021-10-17 16:46:40.654635</td>\n",
       "    </tr>\n",
       "    <tr>\n",
       "      <th>9</th>\n",
       "      <td>model_2_xception-cut-0.200-input-250x250x3-dro...</td>\n",
       "      <td>{'model_prefix': 'model_2_xception-cut-0.200',...</td>\n",
       "      <td>5</td>\n",
       "      <td>10</td>\n",
       "      <td>30</td>\n",
       "      <td>43</td>\n",
       "      <td>16.584</td>\n",
       "      <td>20.671</td>\n",
       "      <td>21.054</td>\n",
       "      <td>2021-10-17 18:17:31.137855</td>\n",
       "    </tr>\n",
       "    <tr>\n",
       "      <th>10</th>\n",
       "      <td>model_2_xception-cut-0.200-input-250x250x3-dro...</td>\n",
       "      <td>{'model_prefix': 'model_2_xception-cut-0.200',...</td>\n",
       "      <td>6</td>\n",
       "      <td>1</td>\n",
       "      <td>31</td>\n",
       "      <td>43</td>\n",
       "      <td>16.776</td>\n",
       "      <td>20.394</td>\n",
       "      <td>21.031</td>\n",
       "      <td>2021-10-17 21:10:50.283913</td>\n",
       "    </tr>\n",
       "    <tr>\n",
       "      <th>11</th>\n",
       "      <td>model_2_xception-cut-0.200-input-250x250x3-dro...</td>\n",
       "      <td>{'model_prefix': 'model_2_xception-cut-0.200',...</td>\n",
       "      <td>7</td>\n",
       "      <td>1</td>\n",
       "      <td>32</td>\n",
       "      <td>43</td>\n",
       "      <td>16.591</td>\n",
       "      <td>20.371</td>\n",
       "      <td>21.047</td>\n",
       "      <td>2021-10-18 20:47:52.673105</td>\n",
       "    </tr>\n",
       "    <tr>\n",
       "      <th>12</th>\n",
       "      <td>model_2_xception-cut-0.200-input-250x250x3-dro...</td>\n",
       "      <td>{'model_prefix': 'model_2_xception-cut-0.200',...</td>\n",
       "      <td>8</td>\n",
       "      <td>1</td>\n",
       "      <td>33</td>\n",
       "      <td>43</td>\n",
       "      <td>16.537</td>\n",
       "      <td>20.525</td>\n",
       "      <td>21.08</td>\n",
       "      <td>2021-10-18 20:56:15.904799</td>\n",
       "    </tr>\n",
       "    <tr>\n",
       "      <th>13</th>\n",
       "      <td>model_2_xception-input-150x150x3-dropout-0.300</td>\n",
       "      <td>{'model_prefix': 'model_2_xception', 'input_sh...</td>\n",
       "      <td>1</td>\n",
       "      <td>1</td>\n",
       "      <td>1</td>\n",
       "      <td>108</td>\n",
       "      <td>23.114</td>\n",
       "      <td>20.701</td>\n",
       "      <td>20.566</td>\n",
       "      <td>2021-10-19 16:28:59.037285</td>\n",
       "    </tr>\n",
       "    <tr>\n",
       "      <th>14</th>\n",
       "      <td>model_2_xception-cut-0.200-input-250x250x3-dro...</td>\n",
       "      <td>{'model_prefix': 'model_2_xception-cut-0.200',...</td>\n",
       "      <td>9</td>\n",
       "      <td>1</td>\n",
       "      <td>34</td>\n",
       "      <td>43</td>\n",
       "      <td>16.817</td>\n",
       "      <td>20.558</td>\n",
       "      <td>21.119</td>\n",
       "      <td>2021-10-19 17:41:55.175438</td>\n",
       "    </tr>\n",
       "    <tr>\n",
       "      <th>15</th>\n",
       "      <td>model_2_xception-cut-0.200-input-250x250x3-den...</td>\n",
       "      <td>{'model_prefix': 'model_2_xception-cut-0.200',...</td>\n",
       "      <td>1</td>\n",
       "      <td>1</td>\n",
       "      <td>1</td>\n",
       "      <td>43</td>\n",
       "      <td>25.604</td>\n",
       "      <td>22.287</td>\n",
       "      <td>21.825</td>\n",
       "      <td>2021-10-19 17:54:10.248107</td>\n",
       "    </tr>\n",
       "    <tr>\n",
       "      <th>16</th>\n",
       "      <td>model_2_xception-cut-0.200-input-250x250x3-den...</td>\n",
       "      <td>{'model_prefix': 'model_2_xception-cut-0.200',...</td>\n",
       "      <td>2</td>\n",
       "      <td>1</td>\n",
       "      <td>2</td>\n",
       "      <td>43</td>\n",
       "      <td>22.69</td>\n",
       "      <td>21.077</td>\n",
       "      <td>21.159</td>\n",
       "      <td>2021-10-19 17:58:12.143647</td>\n",
       "    </tr>\n",
       "    <tr>\n",
       "      <th>17</th>\n",
       "      <td>model_2_xception-cut-0.200-input-250x250x3-den...</td>\n",
       "      <td>{'model_prefix': 'model_2_xception-cut-0.200',...</td>\n",
       "      <td>1</td>\n",
       "      <td>1</td>\n",
       "      <td>1</td>\n",
       "      <td>43</td>\n",
       "      <td>24.979</td>\n",
       "      <td>22.207</td>\n",
       "      <td>21.614</td>\n",
       "      <td>2021-10-19 18:19:58.663669</td>\n",
       "    </tr>\n",
       "    <tr>\n",
       "      <th>18</th>\n",
       "      <td>model_2_xception-cut-0.200-input-150x150x3-den...</td>\n",
       "      <td>{'model_prefix': 'model_2_xception-cut-0.200',...</td>\n",
       "      <td>1</td>\n",
       "      <td>10</td>\n",
       "      <td>10</td>\n",
       "      <td>43</td>\n",
       "      <td>19.198</td>\n",
       "      <td>22.08</td>\n",
       "      <td>21.031</td>\n",
       "      <td>2021-10-19 18:33:27.446332</td>\n",
       "    </tr>\n",
       "    <tr>\n",
       "      <th>19</th>\n",
       "      <td>model_2_xception-cut-0.200-input-150x150x3-den...</td>\n",
       "      <td>{'model_prefix': 'model_2_xception-cut-0.200',...</td>\n",
       "      <td>2</td>\n",
       "      <td>10</td>\n",
       "      <td>20</td>\n",
       "      <td>43</td>\n",
       "      <td>18.194</td>\n",
       "      <td>23.747</td>\n",
       "      <td>21.453</td>\n",
       "      <td>2021-10-19 18:48:55.933223</td>\n",
       "    </tr>\n",
       "  </tbody>\n",
       "</table>\n",
       "</div>"
      ],
      "text/plain": [
       "                                           model_name  \\\n",
       "0   model_2_xception-cut-0.200-input-100x100x3-dro...   \n",
       "1   model_2_xception-cut-0.200-input-100x100x3-dro...   \n",
       "2   model_2_xception-cut-0.200-input-100x100x3-dro...   \n",
       "3   model_2_xception-cut-0.200-input-100x100x3-dro...   \n",
       "4   model_2_xception-cut-0.200-input-100x100x3-dro...   \n",
       "5   model_2_xception-cut-0.200-input-250x250x3-dro...   \n",
       "6   model_2_xception-cut-0.200-input-250x250x3-dro...   \n",
       "7   model_2_xception-cut-0.200-input-250x250x3-dro...   \n",
       "8   model_2_xception-cut-0.200-input-250x250x3-dro...   \n",
       "9   model_2_xception-cut-0.200-input-250x250x3-dro...   \n",
       "10  model_2_xception-cut-0.200-input-250x250x3-dro...   \n",
       "11  model_2_xception-cut-0.200-input-250x250x3-dro...   \n",
       "12  model_2_xception-cut-0.200-input-250x250x3-dro...   \n",
       "13     model_2_xception-input-150x150x3-dropout-0.300   \n",
       "14  model_2_xception-cut-0.200-input-250x250x3-dro...   \n",
       "15  model_2_xception-cut-0.200-input-250x250x3-den...   \n",
       "16  model_2_xception-cut-0.200-input-250x250x3-den...   \n",
       "17  model_2_xception-cut-0.200-input-250x250x3-den...   \n",
       "18  model_2_xception-cut-0.200-input-150x150x3-den...   \n",
       "19  model_2_xception-cut-0.200-input-150x150x3-den...   \n",
       "\n",
       "                                     model_parameters  iteration  epochs  \\\n",
       "0   {'model_prefix': 'model_2_xception-cut-0.200',...          1       2   \n",
       "1   {'model_prefix': 'model_2_xception-cut-0.200',...          2       2   \n",
       "2   {'model_prefix': 'model_2_xception-cut-0.200',...          3       2   \n",
       "3   {'model_prefix': 'model_2_xception-cut-0.200',...          4       5   \n",
       "4   {'model_prefix': 'model_2_xception-cut-0.200',...          5      10   \n",
       "5   {'model_prefix': 'model_2_xception-cut-0.200',...          1       5   \n",
       "6   {'model_prefix': 'model_2_xception-cut-0.200',...          2       5   \n",
       "7   {'model_prefix': 'model_2_xception-cut-0.200',...          3       5   \n",
       "8   {'model_prefix': 'model_2_xception-cut-0.200',...          4       5   \n",
       "9   {'model_prefix': 'model_2_xception-cut-0.200',...          5      10   \n",
       "10  {'model_prefix': 'model_2_xception-cut-0.200',...          6       1   \n",
       "11  {'model_prefix': 'model_2_xception-cut-0.200',...          7       1   \n",
       "12  {'model_prefix': 'model_2_xception-cut-0.200',...          8       1   \n",
       "13  {'model_prefix': 'model_2_xception', 'input_sh...          1       1   \n",
       "14  {'model_prefix': 'model_2_xception-cut-0.200',...          9       1   \n",
       "15  {'model_prefix': 'model_2_xception-cut-0.200',...          1       1   \n",
       "16  {'model_prefix': 'model_2_xception-cut-0.200',...          2       1   \n",
       "17  {'model_prefix': 'model_2_xception-cut-0.200',...          1       1   \n",
       "18  {'model_prefix': 'model_2_xception-cut-0.200',...          1      10   \n",
       "19  {'model_prefix': 'model_2_xception-cut-0.200',...          2      10   \n",
       "\n",
       "    epochs_sum  steps train_rmse val_rmse test_rmse  \\\n",
       "0            2     43     19.388   23.827    21.202   \n",
       "1            4     43     19.234   24.038    21.456   \n",
       "2            4     43     19.344   24.222    21.549   \n",
       "3            9     43     18.806   23.973    21.582   \n",
       "4           19     43     18.375   24.039    20.966   \n",
       "5            5     43     19.041   20.664    21.137   \n",
       "6           10     43     18.209    20.18    21.321   \n",
       "7           15     43     17.661    20.03    21.461   \n",
       "8           20     43     17.303   20.114    20.958   \n",
       "9           30     43     16.584   20.671    21.054   \n",
       "10          31     43     16.776   20.394    21.031   \n",
       "11          32     43     16.591   20.371    21.047   \n",
       "12          33     43     16.537   20.525     21.08   \n",
       "13           1    108     23.114   20.701    20.566   \n",
       "14          34     43     16.817   20.558    21.119   \n",
       "15           1     43     25.604   22.287    21.825   \n",
       "16           2     43      22.69   21.077    21.159   \n",
       "17           1     43     24.979   22.207    21.614   \n",
       "18          10     43     19.198    22.08    21.031   \n",
       "19          20     43     18.194   23.747    21.453   \n",
       "\n",
       "                    trained_at  \n",
       "0   2021-10-17 14:00:59.640327  \n",
       "1   2021-10-17 14:02:14.405012  \n",
       "2   2021-10-17 14:09:31.444351  \n",
       "3   2021-10-17 14:16:26.883468  \n",
       "4   2021-10-17 14:22:17.956892  \n",
       "5   2021-10-17 16:07:25.100604  \n",
       "6   2021-10-17 16:19:42.643741  \n",
       "7   2021-10-17 16:31:47.732889  \n",
       "8   2021-10-17 16:46:40.654635  \n",
       "9   2021-10-17 18:17:31.137855  \n",
       "10  2021-10-17 21:10:50.283913  \n",
       "11  2021-10-18 20:47:52.673105  \n",
       "12  2021-10-18 20:56:15.904799  \n",
       "13  2021-10-19 16:28:59.037285  \n",
       "14  2021-10-19 17:41:55.175438  \n",
       "15  2021-10-19 17:54:10.248107  \n",
       "16  2021-10-19 17:58:12.143647  \n",
       "17  2021-10-19 18:19:58.663669  \n",
       "18  2021-10-19 18:33:27.446332  \n",
       "19  2021-10-19 18:48:55.933223  "
      ]
     },
     "metadata": {},
     "output_type": "display_data"
    },
    {
     "name": "stdout",
     "output_type": "stream",
     "text": [
      "CPU times: user 29min 33s, sys: 5min 4s, total: 34min 38s\n",
      "Wall time: 6min 57s\n"
     ]
    }
   ],
   "source": [
    "%%time\n",
    "# Train and evaluate model\n",
    "with tf_strategy.scope():\n",
    "    model = mllib.setup_model(model_parameters)\n",
    "    model_file = mllib.load_model(model, settings[\"model_load_dir\"])\n",
    "    print(\"Loaded Weights: %s\" % model_file)\n",
    "    history = mllib.train_model(\n",
    "        model=model, \n",
    "        train_dataset=train_dataset(),\n",
    "        validate_dataset=validate_dataset(), \n",
    "        parameters=model_parameters\n",
    "    )\n",
    "    mllib.describe_training(history)\n",
    "    if not settings[\"train_save_checkpoint_flag\"]:\n",
    "        model_file = mllib.save_model(model, settings[\"model_save_dir\"])\n",
    "        print(\"Saved Weights:\", model_file)\n",
    "    print(\"Evaluate:\")\n",
    "    evaluation = mllib.evaluate_model(model, test_dataset())\n",
    "    recorded_training_data = mllib.record_training_evaluate(\n",
    "        model_name=model.name,\n",
    "        model_file=model_file, \n",
    "        model_parameters=\"%s\" % model_parameters, \n",
    "        history=history, \n",
    "        evaluation=evaluation,\n",
    "        model_load_dir=settings[\"model_load_dir\"],\n",
    "        model_save_dir=settings[\"model_save_dir\"],\n",
    "        records_file=\"_train_logs.csv\",\n",
    "    )\n",
    "    display(recorded_training_data)"
   ]
  },
  {
   "cell_type": "markdown",
   "metadata": {
    "tags": []
   },
   "source": [
    "## Cleanup"
   ]
  },
  {
   "cell_type": "code",
   "execution_count": 14,
   "metadata": {},
   "outputs": [
    {
     "name": "stdout",
     "output_type": "stream",
     "text": [
      "CPU times: user 3 µs, sys: 1e+03 ns, total: 4 µs\n",
      "Wall time: 6.91 µs\n"
     ]
    }
   ],
   "source": [
    "%%time\n",
    "if settings[\"cleanup_data_flag\"]: \n",
    "    mllib.delete_training_data(cut_ratio=settings[\"dataset_cut_ratio\"], dataset_dir_cut=settings[\"dataset_dir_cut\"])"
   ]
  }
 ],
 "metadata": {
  "interpreter": {
   "hash": "42794b777d0c0a3b1c381fbde1ad75bd986c804453608c824bcff673de9f39ed"
  },
  "kernelspec": {
   "display_name": "Python 3.8.2 64-bit ('base': conda)",
   "name": "python3"
  },
  "language_info": {
   "codemirror_mode": {
    "name": "ipython",
    "version": 3
   },
   "file_extension": ".py",
   "mimetype": "text/x-python",
   "name": "python",
   "nbconvert_exporter": "python",
   "pygments_lexer": "ipython3",
   "version": "3.8.2"
  }
 },
 "nbformat": 4,
 "nbformat_minor": 5
}
