{
 "cells": [
  {
   "cell_type": "markdown",
   "metadata": {
    "tags": []
   },
   "source": [
    "# PetFinder.my Pawpularity Score / Tuner"
   ]
  },
  {
   "cell_type": "markdown",
   "metadata": {
    "tags": []
   },
   "source": [
    "## Imports"
   ]
  },
  {
   "cell_type": "code",
   "execution_count": 1,
   "metadata": {},
   "outputs": [
    {
     "data": {
      "text/plain": [
       "'TensorFlow Version: 2.6.0'"
      ]
     },
     "metadata": {},
     "output_type": "display_data"
    },
    {
     "data": {
      "text/plain": [
       "'TensorFlow Strategy: _DefaultDistributionStrategy'"
      ]
     },
     "metadata": {},
     "output_type": "display_data"
    }
   ],
   "source": [
    "# Imports\n",
    "import os\n",
    "import numpy as np\n",
    "from IPython.display import display\n",
    "\n",
    "# Import landmark recognition lib\n",
    "import petfinder_pawpularity_lib as mllib\n",
    "tf_strategy = mllib.tf_strategy()"
   ]
  },
  {
   "cell_type": "code",
   "execution_count": 2,
   "metadata": {},
   "outputs": [],
   "source": [
    "# Enable retina display\n",
    "%config InlineBackend.figure_format = \"retina\"\n",
    "\n",
    "# Load Tensorboard\n",
    "%load_ext tensorboard"
   ]
  },
  {
   "cell_type": "markdown",
   "metadata": {
    "tags": []
   },
   "source": [
    "## Settings"
   ]
  },
  {
   "cell_type": "markdown",
   "metadata": {},
   "source": [
    "### Settings definitions"
   ]
  },
  {
   "cell_type": "code",
   "execution_count": 3,
   "metadata": {},
   "outputs": [],
   "source": [
    "# Settings Map\n",
    "if \"settingsMap\" not in globals(): settingsMap = {}"
   ]
  },
  {
   "cell_type": "code",
   "execution_count": 4,
   "metadata": {},
   "outputs": [],
   "source": [
    "# tuner-local-cut\n",
    "settingsMap[\"tuner-local-cut\"] = {\n",
    "    \"debug\": False,\n",
    "    \"model_load_dir\": os.path.join(\"models\"),\n",
    "    \"model_save_dir\": os.path.join(\"models\"),\n",
    "    \"tuner_save_dir\": os.path.join(\"tuner\"),\n",
    "    \"dataset_dir_src\": os.path.join(\"..\", \"input\", \"petfinder-pawpularity-score\"),\n",
    "    \"dataset_dir_cut\": os.path.join(\"..\", \"input\", \"petfinder-pawpularity-score\"),\n",
    "    \"dataset_dir_copy\": os.path.join(\"dataset-copy\"),\n",
    "    \"dataset_batch_size\": 32,\n",
    "    \"dataset_image_size\": (150, 150),\n",
    "    \"dataset_cut_ratio\": 0.2,\n",
    "    \"dataset_shrink_ratio\": 1.0,\n",
    "    \"dataset_split_ratios\": [0.7, 0.2, 0.1],\n",
    "    \"dataset_shuffle\": False,\n",
    "    \"dataset_shuffle_seed\": 42,\n",
    "    \"dataset_prefetch\": mllib.tf.data.AUTOTUNE,\n",
    "    \"tuner_project_name\": \"petfinder-pawpularity\",\n",
    "    \"tuner_type\": \"random\",\n",
    "    \"tuner_max_epochs\": 1,\n",
    "    \"tuner_max_trials\": 2,\n",
    "    \"tuner_executions_per_trial\": 1,\n",
    "    \"tuner_seed\": 42,\n",
    "    \"tuner_hyperparameter_model_base\": [\"xception\", \"efficientnetb3\", \"efficientnetb5\", \"efficientnetb7\"],\n",
    "    \"tuner_hyperparameter_dropout_rate\": [0.0, 0.3, 0.5],\n",
    "    \"tuner_hyperparameter_learning_rate\": [1e-4, 1e-3, 1e-2],\n",
    "    \"tuner_hyperparameter_input_shape\": [\"75x75\"],\n",
    "    \"tuner_hyperparameter_dense_layers\": [\"0\", \"256x128\"],\n",
    "    \"cleanup_data_flag\": False,\n",
    "}"
   ]
  },
  {
   "cell_type": "code",
   "execution_count": 5,
   "metadata": {},
   "outputs": [],
   "source": [
    "# tuner-local-cut\n",
    "settingsMap[\"tuner-local-full\"] = {\n",
    "    \"debug\": False,\n",
    "    \"model_load_dir\": os.path.join(\"models\"),\n",
    "    \"model_save_dir\": os.path.join(\"models\"),\n",
    "    \"tuner_save_dir\": os.path.join(\"tuner\"),\n",
    "    \"dataset_dir_src\": os.path.join(\"..\", \"input\", \"petfinder-pawpularity-score\"),\n",
    "    \"dataset_dir_cut\": os.path.join(\"..\", \"input\", \"petfinder-pawpularity-score\"),\n",
    "    \"dataset_dir_copy\": os.path.join(\"dataset-copy\"),\n",
    "    \"dataset_batch_size\": 64,\n",
    "    \"dataset_image_size\": (150, 150),\n",
    "    \"dataset_cut_ratio\": 1.0,\n",
    "    \"dataset_shrink_ratio\": 1.0,\n",
    "    \"dataset_split_ratios\": [0.7, 0.2, 0.1],\n",
    "    \"dataset_shuffle\": False,\n",
    "    \"dataset_shuffle_seed\": 42,\n",
    "    \"dataset_prefetch\": mllib.tf.data.AUTOTUNE,\n",
    "    \"tuner_project_name\": \"petfinder-pawpularity\",\n",
    "    \"tuner_type\": \"random\",\n",
    "    \"tuner_max_epochs\": 3,\n",
    "    \"tuner_max_trials\": 2,\n",
    "    \"tuner_executions_per_trial\": 1,\n",
    "    \"tuner_seed\": 42,\n",
    "    \"tuner_hyperparameter_model_base\": [\"xception\", \"efficientnetb3\", \"efficientnetb5\", \"efficientnetb7\"],\n",
    "    \"tuner_hyperparameter_dropout_rate\": [0.0, 0.1, 0.2, 0.3, 0.4, 0.5],\n",
    "    \"tuner_hyperparameter_learning_rate\": [1e-4, 5e-4, 1e-3, 5e-3, 1e-2],\n",
    "    \"tuner_hyperparameter_input_shape\": [\"75x75\", \"150x150\", \"250x250\"],\n",
    "    \"tuner_hyperparameter_dense_layers\": [\"100\"],\n",
    "    \"cleanup_data_flag\": False,\n",
    "}"
   ]
  },
  {
   "cell_type": "code",
   "execution_count": 6,
   "metadata": {},
   "outputs": [],
   "source": [
    "# tuner-remote-cut\n",
    "settingsMap[\"tuner-remote-cut\"] = {\n",
    "    \"debug\": False,\n",
    "    \"model_load_dir\": os.path.join(\"..\", \"input\", \"petfinder-pawpularity-train\", \"models\"),\n",
    "    \"model_save_dir\": os.path.join(\"models\"),\n",
    "    \"tuner_save_dir\": os.path.join(\"tuner\"),\n",
    "    \"dataset_dir_src\": os.path.join(\"..\", \"input\", \"petfinder-pawpularity-score\"),\n",
    "    \"dataset_dir_cut\": os.path.join(\"dataset\", \"petfinder-pawpularity-score\"),\n",
    "    \"dataset_dir_copy\": os.path.join(\"dataset-copy\"),\n",
    "    \"dataset_batch_size\": 64,\n",
    "    \"dataset_image_size\": (1000, 1000),\n",
    "    \"dataset_cut_ratio\": 0.2,\n",
    "    \"dataset_shrink_ratio\": 1.0,\n",
    "    \"dataset_split_ratios\": [0.7, 0.2, 0.1],\n",
    "    \"dataset_shuffle\": False,\n",
    "    \"dataset_shuffle_seed\": 42,\n",
    "    \"dataset_prefetch\": mllib.tf.data.AUTOTUNE,\n",
    "    \"tuner_project_name\": \"petfinder-pawpularity\",\n",
    "    \"tuner_type\": \"bayesian\",\n",
    "    \"tuner_max_epochs\": 3,\n",
    "    \"tuner_max_trials\": 50,\n",
    "    \"tuner_executions_per_trial\": 1,\n",
    "    \"tuner_seed\": 42,\n",
    "    \"tuner_hyperparameter_model_base\": [\"xception\", \"efficientnetb7\"],\n",
    "    \"tuner_hyperparameter_dropout_rate\": [0.1, 0.2, 0.3, 0.4, 0.5],\n",
    "    \"tuner_hyperparameter_learning_rate\": [1e-4, 5e-4, 1e-3, 5e-3, 1e-2],\n",
    "    \"tuner_hyperparameter_input_shape\": [\"75x75\", \"150x150\", \"250x250\", \"500x500\"],\n",
    "    \"tuner_hyperparameter_dense_layers\": [\"100\"],\n",
    "    \"cleanup_data_flag\": True,\n",
    "}"
   ]
  },
  {
   "cell_type": "code",
   "execution_count": 7,
   "metadata": {},
   "outputs": [],
   "source": [
    "# tuner-remote-full\n",
    "settingsMap[\"tuner-remote-full\"] = {\n",
    "    \"debug\": False,\n",
    "    \"model_load_dir\": os.path.join(\"..\", \"input\", \"petfinder-pawpularity-train\", \"models\"),\n",
    "    \"model_save_dir\": os.path.join(\"models\"),\n",
    "    \"tuner_save_dir\": os.path.join(\"tuner\"),\n",
    "    \"dataset_dir_src\": os.path.join(\"..\", \"input\", \"petfinder-pawpularity-score\"),\n",
    "    \"dataset_dir_cut\": os.path.join(\"dataset\", \"petfinder-pawpularity-score\"),\n",
    "    \"dataset_dir_copy\": os.path.join(\"dataset-copy\"),\n",
    "    \"dataset_batch_size\": 64,\n",
    "    \"dataset_image_size\": (1000, 1000),\n",
    "    \"dataset_cut_ratio\": 1.0,\n",
    "    \"dataset_shrink_ratio\": 1.0,\n",
    "    \"dataset_split_ratios\": [0.90, 0.05, 0.05],\n",
    "    \"dataset_shuffle\": False,\n",
    "    \"dataset_shuffle_seed\": 42,\n",
    "    \"dataset_prefetch\": mllib.tf.data.AUTOTUNE,\n",
    "    \"tuner_project_name\": \"petfinder-pawpularity\",\n",
    "   \"tuner_type\": \"bayesian\",\n",
    "    \"tuner_max_epochs\": 3,\n",
    "    \"tuner_max_trials\": 50,\n",
    "    \"tuner_executions_per_trial\": 1,\n",
    "    \"tuner_seed\": 42,\n",
    "    \"tuner_hyperparameter_model_base\": [\"xception\", \"efficientnetb7\"],\n",
    "    \"tuner_hyperparameter_dropout_rate\": [0.1, 0.2, 0.3, 0.4, 0.5],\n",
    "    \"tuner_hyperparameter_learning_rate\": [1e-4, 5e-4, 1e-3, 5e-3, 1e-2],\n",
    "    \"tuner_hyperparameter_input_shape\": [\"75x75\", \"150x150\", \"250x250\", \"500x500\"],\n",
    "    \"tuner_hyperparameter_dense_layers\": [\"100\"],\n",
    "    \"cleanup_data_flag\": True,\n",
    "}"
   ]
  },
  {
   "cell_type": "markdown",
   "metadata": {},
   "source": [
    "### Selected settings"
   ]
  },
  {
   "cell_type": "code",
   "execution_count": 8,
   "metadata": {},
   "outputs": [],
   "source": [
    "# Mode\n",
    "mode = \"tuner-local-cut\""
   ]
  },
  {
   "cell_type": "code",
   "execution_count": 9,
   "metadata": {},
   "outputs": [
    {
     "data": {
      "text/plain": [
       "{'debug': False,\n",
       " 'model_load_dir': 'models',\n",
       " 'model_save_dir': 'models',\n",
       " 'tuner_save_dir': 'tuner',\n",
       " 'dataset_dir_src': '../input/petfinder-pawpularity-score',\n",
       " 'dataset_dir_cut': '../input/petfinder-pawpularity-score',\n",
       " 'dataset_dir_copy': 'dataset-copy',\n",
       " 'dataset_batch_size': 32,\n",
       " 'dataset_image_size': (150, 150),\n",
       " 'dataset_cut_ratio': 0.2,\n",
       " 'dataset_shrink_ratio': 1.0,\n",
       " 'dataset_split_ratios': [0.7, 0.2, 0.1],\n",
       " 'dataset_shuffle': False,\n",
       " 'dataset_shuffle_seed': None,\n",
       " 'dataset_prefetch': -1,\n",
       " 'tuner_project_name': 'petfinder-pawpularity',\n",
       " 'tuner_type': 'random',\n",
       " 'tuner_max_epochs': 1,\n",
       " 'tuner_max_trials': 2,\n",
       " 'tuner_executions_per_trial': 1,\n",
       " 'tuner_seed': None,\n",
       " 'tuner_hyperparameter_model_base': ['xception',\n",
       "  'efficientnetb3',\n",
       "  'efficientnetb5',\n",
       "  'efficientnetb7'],\n",
       " 'tuner_hyperparameter_dropout_rate': [0.0, 0.3, 0.5],\n",
       " 'tuner_hyperparameter_learning_rate': [0.0001, 0.001, 0.01],\n",
       " 'tuner_hyperparameter_input_shape': ['75x75'],\n",
       " 'tuner_hyperparameter_dense_layers': ['0', '256x128'],\n",
       " 'cleanup_data_flag': False}"
      ]
     },
     "metadata": {},
     "output_type": "display_data"
    }
   ],
   "source": [
    "# Selected settings\n",
    "settings = settingsMap[mode]\n",
    "display(settings)\n",
    "\n",
    "# Debug\n",
    "debug = settings[\"debug\"]"
   ]
  },
  {
   "cell_type": "markdown",
   "metadata": {
    "tags": []
   },
   "source": [
    "## Prepare data"
   ]
  },
  {
   "cell_type": "code",
   "execution_count": 10,
   "metadata": {},
   "outputs": [
    {
     "data": {
      "text/plain": [
       "'../input/petfinder-pawpularity-score-cut-0.200'"
      ]
     },
     "metadata": {},
     "output_type": "display_data"
    },
    {
     "data": {
      "text/plain": [
       "'Copy ../input/petfinder-pawpularity-score-cut-0.200/train.csv to dataset-copy/train-cut-0.200.csv'"
      ]
     },
     "metadata": {},
     "output_type": "display_data"
    },
    {
     "data": {
      "text/plain": [
       "'Load training data from ../input/petfinder-pawpularity-score-cut-0.200/train.csv'"
      ]
     },
     "metadata": {},
     "output_type": "display_data"
    },
    {
     "name": "stdout",
     "output_type": "stream",
     "text": [
      "Train / Validate / Test datasets items: 1376 / 384 / 192\n",
      "CPU times: user 1.02 s, sys: 207 ms, total: 1.23 s\n",
      "Wall time: 1.02 s\n"
     ]
    }
   ],
   "source": [
    "%%time\n",
    "# Cut training data\n",
    "dataset_dir = mllib.cut_training_data(\n",
    "    cut_ratio=settings[\"dataset_cut_ratio\"], \n",
    "    dataset_dir_src=settings[\"dataset_dir_src\"], \n",
    "    dataset_dir_cut=settings[\"dataset_dir_cut\"]\n",
    ")\n",
    "display(dataset_dir)\n",
    "\n",
    "# Copy train.csv to output (It may be different with submission dataset)\n",
    "if settings[\"dataset_dir_copy\"] is not None:\n",
    "    mllib.copy_file(os.path.join(dataset_dir, \"train.csv\"), os.path.join(settings[\"dataset_dir_copy\"], \"train%s.csv\" % mllib.cut_suffix(settings[\"dataset_cut_ratio\"])))\n",
    "\n",
    "# Train data\n",
    "training_data = mllib.load_training_data(dataset_dir)\n",
    "if debug: \n",
    "    display(training_data)\n",
    "    training_data.hist(bins=500, figsize=(18,3))\n",
    "\n",
    "# Make training data\n",
    "map_image_score_fn = lambda image, features, score, file_id: (image, score)  \n",
    "train_dataset, validate_dataset, test_dataset = mllib.make_training_validate_test_data(\n",
    "    dataset=mllib.load_training_dataset(\n",
    "        dataset_dir=dataset_dir,\n",
    "        mapping_data=training_data,\n",
    "        batch_size=settings[\"dataset_batch_size\"],\n",
    "        shuffle=settings[\"dataset_shuffle\"],\n",
    "        seed=settings[\"dataset_shuffle_seed\"],\n",
    "        image_size=settings[\"dataset_image_size\"],\n",
    "    ),\n",
    "    split_ratios=settings[\"dataset_split_ratios\"],\n",
    "    shrink_ratio=settings[\"dataset_shrink_ratio\"],\n",
    "    prefetch=settings[\"dataset_prefetch\"],\n",
    ")\n",
    " \n",
    "# Training data infos\n",
    "print(\"Train / Validate / Test datasets items: %s / %s / %s\" % (\n",
    "    settings[\"dataset_batch_size\"] * train_dataset().cardinality().numpy(), \n",
    "    settings[\"dataset_batch_size\"] * validate_dataset().cardinality().numpy(), \n",
    "    settings[\"dataset_batch_size\"] * test_dataset().cardinality().numpy()\n",
    "))\n",
    "if debug:\n",
    "    print(\"\")\n",
    "    print(\"Train dataset:\")\n",
    "    mllib.plot_images_scores_from_dataset(train_dataset().take(1).map(map_image_score_fn))\n",
    "    print(\"Validate dataset:\")\n",
    "    mllib.plot_images_scores_from_dataset(validate_dataset().take(1).map(map_image_score_fn))\n",
    "    print(\"Test dataset:\")\n",
    "    mllib.plot_images_scores_from_dataset(test_dataset().take(1).map(map_image_score_fn))"
   ]
  },
  {
   "cell_type": "markdown",
   "metadata": {
    "tags": []
   },
   "source": [
    "## Tune model"
   ]
  },
  {
   "cell_type": "code",
   "execution_count": 11,
   "metadata": {},
   "outputs": [],
   "source": [
    "# Build hypermodel\n",
    "def build_hypermodel():\n",
    "    model_parameters = {\n",
    "        \"model_prefix\": \"model\" + mllib.cut_suffix(settings[\"dataset_cut_ratio\"]),\n",
    "        \"input_shape\": [None, None, 3],\n",
    "        \"input_shape_features\": len(mllib.feature_fields),\n",
    "        \"output_size\": 1,\n",
    "        \"dense_layers_activation\": \"elu\",\n",
    "        \"preload_weights\": \"imagenet\",\n",
    "        \"fine_tuning\": False,\n",
    "    }\n",
    "    model_parameters[\"model_name\"] = model_parameters[\"model_prefix\"]\n",
    "    def _build_model(hp):\n",
    "        model_parameters[\"model_base\"] = hp.Choice(\"model_base\", values=settings[\"tuner_hyperparameter_model_base\"])\n",
    "        model_parameters[\"dropout_rate\"] = hp.Choice(\"dropout_rate\", values=settings[\"tuner_hyperparameter_dropout_rate\"])\n",
    "        model_parameters[\"learning_rate\"] = hp.Choice(\"learning_rate\", values=settings[\"tuner_hyperparameter_learning_rate\"])\n",
    "        model_parameters[\"image_resize\"] = hp.Choice(\"input_shape\", values=settings[\"tuner_hyperparameter_input_shape\"])\n",
    "        model_parameters[\"dense_layers\"] = hp.Choice(\"dense_layers\", values=settings[\"tuner_hyperparameter_dense_layers\"])\n",
    "        return mllib.setup_model(model_parameters)\n",
    "    return _build_model"
   ]
  },
  {
   "cell_type": "code",
   "execution_count": 12,
   "metadata": {},
   "outputs": [
    {
     "name": "stdout",
     "output_type": "stream",
     "text": [
      "Trial 2 Complete [00h 01m 21s]\n",
      "val_rmse: 21.808916091918945\n",
      "\n",
      "Best val_rmse So Far: 21.808916091918945\n",
      "Total elapsed time: 00h 01m 47s\n",
      "INFO:tensorflow:Oracle triggered exit\n",
      "Results summary\n",
      "Results in tuner/petfinder-pawpularity\n",
      "Showing 10 best trials\n",
      "Objective(name='val_rmse', direction='min')\n",
      "Trial summary\n",
      "Hyperparameters:\n",
      "model_base: efficientnetb7\n",
      "dropout_rate: 0.0\n",
      "learning_rate: 0.01\n",
      "input_shape: 75x75\n",
      "dense_layers: 0\n",
      "Score: 21.808916091918945\n",
      "Trial summary\n",
      "Hyperparameters:\n",
      "model_base: xception\n",
      "dropout_rate: 0.3\n",
      "learning_rate: 0.01\n",
      "input_shape: 75x75\n",
      "dense_layers: 256x128\n",
      "Score: 25.251707077026367\n"
     ]
    }
   ],
   "source": [
    "# Tune model\n",
    "with tf_strategy.scope():\n",
    "    tuner = mllib.tune_model(\n",
    "        hypermodel=build_hypermodel(), \n",
    "        settings=settings, \n",
    "        train_dataset=train_dataset, \n",
    "        validate_dataset=validate_dataset,\n",
    "    )"
   ]
  },
  {
   "cell_type": "markdown",
   "metadata": {
    "tags": []
   },
   "source": [
    "## Cleanup"
   ]
  },
  {
   "cell_type": "code",
   "execution_count": 13,
   "metadata": {},
   "outputs": [
    {
     "name": "stdout",
     "output_type": "stream",
     "text": [
      "CPU times: user 6 µs, sys: 1 µs, total: 7 µs\n",
      "Wall time: 12.6 µs\n"
     ]
    }
   ],
   "source": [
    "%%time\n",
    "if settings[\"cleanup_data_flag\"]: \n",
    "    mllib.delete_training_data(cut_ratio=settings[\"dataset_cut_ratio\"], dataset_dir_cut=settings[\"dataset_dir_cut\"])"
   ]
  }
 ],
 "metadata": {
  "interpreter": {
   "hash": "42794b777d0c0a3b1c381fbde1ad75bd986c804453608c824bcff673de9f39ed"
  },
  "kernelspec": {
   "display_name": "Python 3.8.2 64-bit ('base': conda)",
   "name": "python3"
  },
  "language_info": {
   "codemirror_mode": {
    "name": "ipython",
    "version": 3
   },
   "file_extension": ".py",
   "mimetype": "text/x-python",
   "name": "python",
   "nbconvert_exporter": "python",
   "pygments_lexer": "ipython3",
   "version": "3.8.2"
  }
 },
 "nbformat": 4,
 "nbformat_minor": 5
}
